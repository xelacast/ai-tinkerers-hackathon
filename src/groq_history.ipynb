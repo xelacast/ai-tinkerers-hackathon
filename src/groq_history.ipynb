{
 "cells": [
  {
   "cell_type": "code",
   "execution_count": 128,
   "metadata": {},
   "outputs": [],
   "source": [
    "import getpass\n",
    "import os\n",
    "from dotenv import load_dotenv\n",
    "load_dotenv()\n",
    "\n",
    "\n",
    "# api_key = os.environ[\"GROQ_API_KEY\"]\n",
    "\n",
    "from langchain_groq import ChatGroq\n",
    "\n",
    "llm = ChatGroq(model=\"llama-3.1-8b-instant\")"
   ]
  },
  {
   "cell_type": "code",
   "execution_count": 129,
   "metadata": {},
   "outputs": [
    {
     "name": "stdout",
     "output_type": "stream",
     "text": [
      "Requirement already satisfied: jq in /Users/xela/Developer/hackathons/ai-tinkerers/ai-recipes/venv/lib/python3.11/site-packages (1.7.0)\n",
      "\n",
      "\u001b[1m[\u001b[0m\u001b[34;49mnotice\u001b[0m\u001b[1;39;49m]\u001b[0m\u001b[39;49m A new release of pip is available: \u001b[0m\u001b[31;49m24.0\u001b[0m\u001b[39;49m -> \u001b[0m\u001b[32;49m24.2\u001b[0m\n",
      "\u001b[1m[\u001b[0m\u001b[34;49mnotice\u001b[0m\u001b[1;39;49m]\u001b[0m\u001b[39;49m To update, run: \u001b[0m\u001b[32;49mpip install --upgrade pip\u001b[0m\n",
      "Note: you may need to restart the kernel to use updated packages.\n"
     ]
    }
   ],
   "source": [
    "%pip install jq"
   ]
  },
  {
   "cell_type": "code",
   "execution_count": 159,
   "metadata": {},
   "outputs": [
    {
     "name": "stdout",
     "output_type": "stream",
     "text": [
      "[Document(metadata={'source': '/Users/xela/Developer/hackathons/ai-tinkerers/ai-recipes/static/recipes.json', 'seq_num': 1, 'title': 'Spicy Veggie Stir-Fry', 'dish_name': 'Spicy Veggie Stir-Fry'}, page_content='{\"title\": \"Spicy Veggie Stir-Fry\", \"dishName\": \"Spicy Veggie Stir-Fry\", \"ingredients\": [{\"item\": \"thin spaghetti\", \"amount\": \"1\", \"unit\": \"pound\"}, {\"item\": \"sesame oil\", \"amount\": \"for drizzling\", \"unit\": \"\"}, {\"item\": \"low-sodium soy sauce\", \"amount\": \"1/2 cup plus more for drizzling\", \"unit\": \"\"}, {\"item\": \"sherry or low-sodium vegetable broth\", \"amount\": \"2\", \"unit\": \"tablespoons\"}, {\"item\": \"brown sugar\", \"amount\": \"2\", \"unit\": \"tablespoons\"}, {\"item\": \"cornstarch\", \"amount\": \"2\", \"unit\": \"tablespoons\"}, {\"item\": \"sriracha\", \"amount\": \"2\", \"unit\": \"tablespoons\"}, {\"item\": \"fresh ginger, minced\", \"amount\": \"1\", \"unit\": \"tablespoon\"}, {\"item\": \"peanut oil\", \"amount\": \"3\", \"unit\": \"tablespoons\"}, {\"item\": \"yellow onion, cut into large chunks\", \"amount\": \"1\", \"unit\": \"whole\"}, {\"item\": \"red bell pepper, cut into large chunks\", \"amount\": \"1\", \"unit\": \"whole\"}, {\"item\": \"yellow bell pepper, cut into large chunks\", \"amount\": \"1\", \"unit\": \"whole\"}, {\"item\": \"garlic, minced\", \"amount\": \"2\", \"unit\": \"cloves\"}, {\"item\": \"zucchini, cut into large wedges\", \"amount\": \"2\", \"unit\": \"medium\"}, {\"item\": \"baby corn, drained and halved crosswise\", \"amount\": \"15\", \"unit\": \"ounces\"}, {\"item\": \"broccoli, cut into florets\", \"amount\": \"1\", \"unit\": \"head\"}, {\"item\": \"sesame seeds\", \"amount\": \"for serving\", \"unit\": \"\"}, {\"item\": \"green onions, sliced\", \"amount\": \"2\", \"unit\": \"whole\"}], \"instructions\": [{\"step\": \"1\", \"instruction\": \"For the noodles: Bring a pot of water to a boil. Cook the spaghetti in the boiling water according to the package instructions. Drain, then drizzle with some sesame oil and a little soy sauce in a large bowl and toss.\"}, {\"step\": \"2\", \"instruction\": \"For the stir-fry: While the noodles are cooking, mix together the soy sauce, sherry, brown sugar, cornstarch, sriracha and ginger in a bowl. Set aside.\"}, {\"step\": \"3\", \"instruction\": \"Heat the peanut oil in a large skillet over medium-high heat. Add the onion and bell peppers and cook, stirring, for 2 to 3 minutes. Add the garlic and cook for 30 seconds to 1 minute more, stirring continuously. Add the zucchini and stir it around, cooking it for 2 minutes more. Add the baby corn and broccoli and cook for a couple of minutes.\"}, {\"step\": \"4\", \"instruction\": \"While the veggies are still firm, pour in the sauce. Stir the veggies in the sauce and cook until the sauce is very thick, 1 to 2 minutes more. If it needs to be a little saucier, pour in 1/4 to 1/2 cup hot water and splash in a little more soy sauce.\"}, {\"step\": \"5\", \"instruction\": \"Serve the stir-fry over the noodles with a sprinkling of sesame seeds and some sliced green onions.\"}]}'), Document(metadata={'source': '/Users/xela/Developer/hackathons/ai-tinkerers/ai-recipes/static/recipes.json', 'seq_num': 2, 'title': 'Tuna Noodle Casserole', 'dish_name': 'Tuna Noodle Casserole'}, page_content='{\"title\": \"Tuna Noodle Casserole\", \"dishName\": \"Tuna Noodle Casserole\", \"ingredients\": [{\"item\": \"wide egg noodles\", \"amount\": \"12\", \"unit\": \"ounces\"}, {\"item\": \"salted butter\", \"amount\": \"8\", \"unit\": \"tablespoons\"}, {\"item\": \"medium onion, diced\", \"amount\": \"1\", \"unit\": \"whole\"}, {\"item\": \"white button mushrooms, finely chopped\", \"amount\": \"6\", \"unit\": \"ounces\"}, {\"item\": \"all-purpose flour\", \"amount\": \"1/4\", \"unit\": \"cup\"}, {\"item\": \"whole milk, warmed\", \"amount\": \"3\", \"unit\": \"cups\"}, {\"item\": \"dry sherry\", \"amount\": \"1/2\", \"unit\": \"cup\"}, {\"item\": \"kosher salt\", \"amount\": \"to taste\", \"unit\": \"\"}, {\"item\": \"freshly ground black pepper\", \"amount\": \"to taste\", \"unit\": \"\"}, {\"item\": \"white albacore tuna in water, drained\", \"amount\": \"19.2\", \"unit\": \"ounces\"}, {\"item\": \"red bell pepper, finely chopped\", \"amount\": \"1/4\", \"unit\": \"cup\"}, {\"item\": \"fresh parsley, minced\", \"amount\": \"2\", \"unit\": \"tablespoons\"}, {\"item\": \"panko breadcrumbs\", \"amount\": \"1/2\", \"unit\": \"cup\"}, {\"item\": \"extra butter for buttering the baking dish\", \"amount\": \"as needed\", \"unit\": \"\"}], \"instructions\": [{\"step\": \"1\", \"instruction\": \"Preheat the oven to 400 degrees F.\"}, {\"step\": \"2\", \"instruction\": \"Bring a pot of water to a boil and cook the egg noodles to al dente according to the package instructions. Drain and set aside.\"}, {\"step\": \"3\", \"instruction\": \"Meanwhile, melt 4 tablespoons of the butter in a large skillet over medium heat. Add the onion and cook until starting to soften, 3 to 4 minutes. Add the mushrooms and cook, stirring, for a couple of minutes. Sprinkle the flour evenly over the mixture and stir so that the flour coats the onions and mushrooms thoroughly. Cook, stirring, for another minute. Add the milk and sherry and whisk to combine. Cook the sauce until it\\'s nice and thick, 3 to 4 minutes. Sprinkle in salt and pepper to taste and stir. Adjust the seasoning to make sure the sauce is adequately salted.\"}, {\"step\": \"4\", \"instruction\": \"Add the tuna and stir it into the sauce. Then stir in the bell pepper and 1 tablespoon of the parsley. Stir in the noodles until they\\'re coated. Butter a 9-by-13-inch baking dish and transfer the noodle mixture to the dish.\"}, {\"step\": \"5\", \"instruction\": \"Melt the remaining 4 tablespoons butter in a bowl in the microwave; stir it around with the breadcrumbs and remaining tablespoon of parsley.\"}, {\"step\": \"6\", \"instruction\": \"Top the casserole with the breadcrumbs and bake until golden, 25 to 30 minutes. Serve piping hot with a green salad and warm crusty bread.\"}]}')]\n"
     ]
    }
   ],
   "source": [
    "from langchain.chains import create_history_aware_retriever, create_retrieval_chain\n",
    "from langchain.chains.combine_documents import create_stuff_documents_chain\n",
    "from langchain_chroma import Chroma\n",
    "from langchain_community.document_loaders import JSONLoader\n",
    "from langchain_core.output_parsers import StrOutputParser\n",
    "from langchain.prompts import ChatPromptTemplate\n",
    "from langchain_core.runnables import RunnablePassthrough\n",
    "# Load embedding model here for RAG\n",
    "from langchain_openai import OpenAIEmbeddings\n",
    "from langchain_text_splitters import RecursiveCharacterTextSplitter\n",
    "from langchain_core.runnables.history import RunnableWithMessageHistory\n",
    "\n",
    "\n",
    "def metadata_func(record: dict, metadata: dict) -> dict:\n",
    "    metadata[\"title\"] = record.get(\"title\")\n",
    "    metadata[\"dish_name\"] = record.get(\"dishName\")\n",
    "    # metadata[\"ingredients\"] = record.get(\"ingredients\")['item'] + \" \" + record.get(\"ingredients\")['amount'] + \" \" + record.get(\"ingredients\")['unit']\n",
    "    # metadata[\"intructions\"] = record.get(\"instructions\")[\"step\"] + \". \" + record.get(\"instructions\")[\"instruction\"]\n",
    "\n",
    "    # if \"source\" in metadata:\n",
    "    #         source = metadata[\"source\"].split(\"/\")\n",
    "    #         source = source[source.index(\"langchain\"):]\n",
    "    #         metadata[\"source\"] = \"/\".join(source)\n",
    "\n",
    "    return metadata\n",
    "\n",
    "file_path = \"../static/recipes.json\"\n",
    "loader = JSONLoader(file_path=file_path, jq_schema=\".[]\", text_content=False, metadata_func=metadata_func)\n",
    "data = loader.load()\n",
    "print(data)\n",
    "# vectorstore = Chroma.from_documents(documents=data, embedding=OpenAIEmbeddings())\n",
    "# retriever = vectorstore.as_retriever()"
   ]
  },
  {
   "cell_type": "code",
   "execution_count": 131,
   "metadata": {},
   "outputs": [
    {
     "name": "stdout",
     "output_type": "stream",
     "text": [
      "[Document(metadata={'source': '/Users/xela/Developer/hackathons/ai-tinkerers/ai-recipes/static/recipes.json', 'seq_num': 1, 'title': 'Spicy Veggie Stir-Fry', 'dish_name': 'Spicy Veggie Stir-Fry'}, page_content='{\"title\": \"Spicy Veggie Stir-Fry\", \"dishName\": \"Spicy Veggie Stir-Fry\", \"ingredients\": [{\"item\": \"thin spaghetti\", \"amount\": \"1\", \"unit\": \"pound\"}, {\"item\": \"sesame oil\", \"amount\": \"for drizzling\", \"unit\": \"\"}, {\"item\": \"low-sodium soy sauce\", \"amount\": \"1/2 cup plus more for drizzling\", \"unit\": \"\"}, {\"item\": \"sherry or low-sodium vegetable broth\", \"amount\": \"2\", \"unit\": \"tablespoons\"}, {\"item\": \"brown sugar\", \"amount\": \"2\", \"unit\": \"tablespoons\"}, {\"item\": \"cornstarch\", \"amount\": \"2\", \"unit\": \"tablespoons\"}, {\"item\": \"sriracha\", \"amount\": \"2\", \"unit\": \"tablespoons\"}, {\"item\": \"fresh ginger, minced\", \"amount\": \"1\", \"unit\": \"tablespoon\"}, {\"item\": \"peanut oil\", \"amount\": \"3\", \"unit\": \"tablespoons\"}, {\"item\": \"yellow onion, cut into large chunks\", \"amount\": \"1\", \"unit\": \"whole\"}, {\"item\": \"red bell pepper, cut into large chunks\", \"amount\": \"1\", \"unit\": \"whole\"}, {\"item\": \"yellow bell pepper, cut into large chunks\", \"amount\": \"1\", \"unit\": \"whole\"}, {\"item\": \"garlic, minced\", \"amount\": \"2\", \"unit\": \"cloves\"}, {\"item\": \"zucchini, cut into large wedges\", \"amount\": \"2\", \"unit\": \"medium\"}, {\"item\": \"baby corn, drained and halved crosswise\", \"amount\": \"15\", \"unit\": \"ounces\"}, {\"item\": \"broccoli, cut into florets\", \"amount\": \"1\", \"unit\": \"head\"}, {\"item\": \"sesame seeds\", \"amount\": \"for serving\", \"unit\": \"\"}, {\"item\": \"green onions, sliced\", \"amount\": \"2\", \"unit\": \"whole\"}], \"instructions\": [{\"step\": \"1\", \"instruction\": \"For the noodles: Bring a pot of water to a boil. Cook the spaghetti in the boiling water according to the package instructions. Drain, then drizzle with some sesame oil and a little soy sauce in a large bowl and toss.\"}, {\"step\": \"2\", \"instruction\": \"For the stir-fry: While the noodles are cooking, mix together the soy sauce, sherry, brown sugar, cornstarch, sriracha and ginger in a bowl. Set aside.\"}, {\"step\": \"3\", \"instruction\": \"Heat the peanut oil in a large skillet over medium-high heat. Add the onion and bell peppers and cook, stirring, for 2 to 3 minutes. Add the garlic and cook for 30 seconds to 1 minute more, stirring continuously. Add the zucchini and stir it around, cooking it for 2 minutes more. Add the baby corn and broccoli and cook for a couple of minutes.\"}, {\"step\": \"4\", \"instruction\": \"While the veggies are still firm, pour in the sauce. Stir the veggies in the sauce and cook until the sauce is very thick, 1 to 2 minutes more. If it needs to be a little saucier, pour in 1/4 to 1/2 cup hot water and splash in a little more soy sauce.\"}, {\"step\": \"5\", \"instruction\": \"Serve the stir-fry over the noodles with a sprinkling of sesame seeds and some sliced green onions.\"}]}'), Document(metadata={'source': '/Users/xela/Developer/hackathons/ai-tinkerers/ai-recipes/static/recipes.json', 'seq_num': 2, 'title': 'Tuna Noodle Casserole', 'dish_name': 'Tuna Noodle Casserole'}, page_content='{\"title\": \"Tuna Noodle Casserole\", \"dishName\": \"Tuna Noodle Casserole\", \"ingredients\": [{\"item\": \"wide egg noodles\", \"amount\": \"12\", \"unit\": \"ounces\"}, {\"item\": \"salted butter\", \"amount\": \"8\", \"unit\": \"tablespoons\"}, {\"item\": \"medium onion, diced\", \"amount\": \"1\", \"unit\": \"whole\"}, {\"item\": \"white button mushrooms, finely chopped\", \"amount\": \"6\", \"unit\": \"ounces\"}, {\"item\": \"all-purpose flour\", \"amount\": \"1/4\", \"unit\": \"cup\"}, {\"item\": \"whole milk, warmed\", \"amount\": \"3\", \"unit\": \"cups\"}, {\"item\": \"dry sherry\", \"amount\": \"1/2\", \"unit\": \"cup\"}, {\"item\": \"kosher salt\", \"amount\": \"to taste\", \"unit\": \"\"}, {\"item\": \"freshly ground black pepper\", \"amount\": \"to taste\", \"unit\": \"\"}, {\"item\": \"white albacore tuna in water, drained\", \"amount\": \"19.2\", \"unit\": \"ounces\"}, {\"item\": \"red bell pepper, finely chopped\", \"amount\": \"1/4\", \"unit\": \"cup\"}, {\"item\": \"fresh parsley, minced\", \"amount\": \"2\", \"unit\": \"tablespoons\"}, {\"item\": \"panko breadcrumbs\", \"amount\": \"1/2\", \"unit\": \"cup\"}, {\"item\": \"extra butter for buttering the baking dish\", \"amount\": \"as needed\", \"unit\": \"\"}], \"instructions\": [{\"step\": \"1\", \"instruction\": \"Preheat the oven to 400 degrees F.\"}, {\"step\": \"2\", \"instruction\": \"Bring a pot of water to a boil and cook the egg noodles to al dente according to the package instructions. Drain and set aside.\"}, {\"step\": \"3\", \"instruction\": \"Meanwhile, melt 4 tablespoons of the butter in a large skillet over medium heat. Add the onion and cook until starting to soften, 3 to 4 minutes. Add the mushrooms and cook, stirring, for a couple of minutes. Sprinkle the flour evenly over the mixture and stir so that the flour coats the onions and mushrooms thoroughly. Cook, stirring, for another minute. Add the milk and sherry and whisk to combine. Cook the sauce until it\\'s nice and thick, 3 to 4 minutes. Sprinkle in salt and pepper to taste and stir. Adjust the seasoning to make sure the sauce is adequately salted.\"}, {\"step\": \"4\", \"instruction\": \"Add the tuna and stir it into the sauce. Then stir in the bell pepper and 1 tablespoon of the parsley. Stir in the noodles until they\\'re coated. Butter a 9-by-13-inch baking dish and transfer the noodle mixture to the dish.\"}, {\"step\": \"5\", \"instruction\": \"Melt the remaining 4 tablespoons butter in a bowl in the microwave; stir it around with the breadcrumbs and remaining tablespoon of parsley.\"}, {\"step\": \"6\", \"instruction\": \"Top the casserole with the breadcrumbs and bake until golden, 25 to 30 minutes. Serve piping hot with a green salad and warm crusty bread.\"}]}')]\n"
     ]
    }
   ],
   "source": [
    "\n",
    "docs = loader.load()\n",
    "\n",
    "text_splitter = RecursiveCharacterTextSplitter(\n",
    "    chunk_size=1000,\n",
    "    chunk_overlap=100,\n",
    ")\n",
    "splits = text_splitter.split_documents(docs)\n",
    "print(docs)\n",
    "vectorstore = Chroma.from_documents(documents=splits, embedding=OpenAIEmbeddings())\n",
    "retriever = vectorstore.as_retriever()\n"
   ]
  },
  {
   "cell_type": "code",
   "execution_count": null,
   "metadata": {},
   "outputs": [],
   "source": [
    "from langchain_core.runnables import RunnableParallel, RunnablePassthrough\n",
    "\n",
    "from langchain import hub\n",
    "def format_docs(docs):\n",
    "    return \"\\n\\n\".join(doc.page_content for doc in docs)\n",
    "\n",
    "prompt = hub.pull(\"rlm/rag-prompt\")\n",
    "\n",
    "rag_chain_from_docs = (\n",
    "    RunnablePassthrough.assign(context=(lambda x: format_docs(x[\"context\"])))\n",
    "    | prompt\n",
    "    | llm\n",
    "    | StrOutputParser()\n",
    ")\n",
    "\n",
    "rag_chain_with_source = RunnableParallel({\n",
    "    \"context\": retriever, \"question\": RunnablePassthrough()\n",
    "}).assign(answer=rag_chain_from_docs)\n",
    "\n",
    "for chunk in rag_chain_with_source.stream(\"What recipes do I have?\"):\n",
    "    print(chunk)"
   ]
  },
  {
   "cell_type": "code",
   "execution_count": 132,
   "metadata": {},
   "outputs": [],
   "source": [
    "from langchain.chains import create_history_aware_retriever\n",
    "from langchain_core.prompts import MessagesPlaceholder\n",
    "\n",
    "contextualize_q_system_prompt = (\n",
    "    \"You have a persona of Gordan Ramsey.\"\n",
    "    \"Curate recipes based off of the recipes provided.\"\n",
    ")\n",
    "\n",
    "contextualize_q_prompt = ChatPromptTemplate.from_messages(\n",
    "    [\n",
    "        (\"system\", contextualize_q_system_prompt),\n",
    "        MessagesPlaceholder(\"chat_history\"),\n",
    "        (\"human\", \"{input}\"),\n",
    "    ]\n",
    ")"
   ]
  },
  {
   "cell_type": "code",
   "execution_count": 133,
   "metadata": {},
   "outputs": [],
   "source": [
    "history_aware_retriever = create_history_aware_retriever(\n",
    "    llm, retriever, contextualize_q_prompt\n",
    ")"
   ]
  },
  {
   "cell_type": "code",
   "execution_count": 144,
   "metadata": {},
   "outputs": [],
   "source": [
    "system_prompt = (\n",
    "    \"You are a profressional chef and a chef's assistant. You will be given a recipe and you will need to extract the ingredients and the instructions from the recipe. Format the recipes in a easy to read and sequential manner. Add the ingredient amounts to the instructions. DO NOT USE ingredients that are not present to you. If the name of the dish, title, ingredients, and instructions are duplicated ONLY USE ONE. {context}\"\n",
    ")\n",
    "\n",
    "qa_prompt = ChatPromptTemplate.from_messages([\n",
    "    (\"system\", system_prompt),\n",
    "    MessagesPlaceholder(\"chat_history\"),\n",
    "    (\"human\", \"{input}\")\n",
    "])\n",
    "\n",
    "question_answer_chain = create_stuff_documents_chain(llm, qa_prompt)\n",
    "\n",
    "rag_chain = create_retrieval_chain(history_aware_retriever, question_answer_chain)\n"
   ]
  },
  {
   "cell_type": "code",
   "execution_count": 145,
   "metadata": {},
   "outputs": [],
   "source": [
    "from langchain_community.chat_message_histories import ChatMessageHistory\n",
    "from langchain_core.chat_history import BaseChatMessageHistory\n",
    "from langchain_core.runnables.history import RunnableWithMessageHistory\n",
    "\n",
    "store = {}\n",
    "\n",
    "\n",
    "def get_session_history(session_id: str) -> BaseChatMessageHistory:\n",
    "    if session_id not in store:\n",
    "        store[session_id] = ChatMessageHistory()\n",
    "    return store[session_id]\n",
    "\n",
    "\n",
    "conversational_rag_chain = RunnableWithMessageHistory(\n",
    "    rag_chain,\n",
    "    get_session_history,\n",
    "    input_messages_key=\"input\",\n",
    "    history_messages_key=\"chat_history\",\n",
    "    output_messages_key=\"context\",\n",
    ")"
   ]
  },
  {
   "cell_type": "code",
   "execution_count": 146,
   "metadata": {},
   "outputs": [
    {
     "data": {
      "text/plain": [
       "'We have two recipes:\\n\\n1. **Spicy Veggie Stir-Fry**\\n2. **Tuna Noodle Casserole**'"
      ]
     },
     "execution_count": 146,
     "metadata": {},
     "output_type": "execute_result"
    }
   ],
   "source": [
    "conversational_rag_chain.invoke(\n",
    "    {\"input\": \"What recipes do we have?\"},\n",
    "    config={\n",
    "        \"configurable\": {\"session_id\": \"abc123\"}\n",
    "    },  # constructs a key \"abc123\" in `store`.\n",
    ")[\"answer\"]"
   ]
  },
  {
   "cell_type": "code",
   "execution_count": 147,
   "metadata": {},
   "outputs": [
    {
     "data": {
      "text/plain": [
       "'Here are the instructions and ingredients for the Spicy Veggie Stir-Fry:\\n\\n**Spicy Veggie Stir-Fry**\\n\\n**Ingredients:**\\n\\n* 1 pound thin spaghetti\\n* Sesame oil (for drizzling)\\n* 1/2 cup plus more for drizzling low-sodium soy sauce\\n* 2 tablespoons sherry or low-sodium vegetable broth\\n* 2 tablespoons brown sugar\\n* 2 tablespoons cornstarch\\n* 2 tablespoons sriracha\\n* 1 tablespoon fresh ginger, minced\\n* 3 tablespoons peanut oil\\n* 1 whole yellow onion, cut into large chunks\\n* 1 whole red bell pepper, cut into large chunks\\n* 1 whole yellow bell pepper, cut into large chunks\\n* 2 cloves garlic, minced\\n* 2 medium zucchini, cut into large wedges\\n* 15 ounces baby corn, drained and halved crosswise\\n* 1 head broccoli, cut into florets\\n* For serving: sesame seeds and 2 whole green onions, sliced\\n\\n**Instructions:**\\n\\n1. **For the noodles:** Bring a pot of water to a boil. Cook the spaghetti in the boiling water according to the package instructions. Drain, then drizzle with some sesame oil and a little soy sauce in a large bowl and toss.\\n2. **For the stir-fry:** While the noodles are cooking, mix together the soy sauce, sherry, brown sugar, cornstarch, sriracha, and ginger in a bowl. Set aside.\\n3. **Heat the peanut oil in a large skillet over medium-high heat. Add the onion and bell peppers and cook, stirring, for 2 to 3 minutes. Add the garlic and cook for 30 seconds to 1 minute more, stirring continuously. Add the zucchini and stir it around, cooking it for 2 minutes more. Add the baby corn and broccoli and cook for a couple of minutes.**\\n4. **While the veggies are still firm, pour in the sauce. Stir the veggies in the sauce and cook until the sauce is very thick, 1 to 2 minutes more. If it needs to be a little saucier, pour in 1/4 to 1/2 cup hot water and splash in a little more soy sauce.**\\n5. **Serve the stir-fry over the noodles with a sprinkling of sesame seeds and some sliced green onions.**'"
      ]
     },
     "execution_count": 147,
     "metadata": {},
     "output_type": "execute_result"
    }
   ],
   "source": [
    "conversational_rag_chain.invoke(\n",
    "    {\"input\": \"Give me the instructions and ingredients for a spicy veggie stir-fry.\"},\n",
    "    config={\"configurable\": {\"session_id\": \"abc123\"}},\n",
    ")[\"answer\"]"
   ]
  },
  {
   "cell_type": "code",
   "execution_count": 148,
   "metadata": {},
   "outputs": [
    {
     "data": {
      "text/plain": [
       "'Here is a recipe for a Spicy Veggie Stir-Fry with a protein content over 18g per serving and under 600 calories per serving:\\n\\n**Spicy Shrimp and Veggie Stir-Fry**\\n\\n**Servings:** 1\\n**Calories per serving:** 540\\n**Protein per serving:** 22g\\n\\n**Ingredients:**\\n\\n* 1/2 pound large shrimp, peeled and deveined (110 calories, 18g protein)\\n* 1/2 cup sliced chicken breast (140 calories, 30g protein)\\n* 1 tablespoon sesame oil (120 calories)\\n* 1/2 cup sliced yellow onion (45 calories)\\n* 1/2 cup sliced red bell pepper (45 calories)\\n* 2 cloves garlic, minced (10 calories)\\n* 1 cup broccoli florets (55 calories)\\n* 1 cup sliced mushrooms (15 calories)\\n* 1 tablespoon soy sauce (5 calories)\\n* 1 tablespoon sriracha sauce (5 calories)\\n* Salt and pepper to taste\\n\\n**Instructions:**\\n\\n1. **Heat the sesame oil in a large skillet over medium-high heat. Add the chicken breast and cook until browned and cooked through, about 5 minutes. Remove from the skillet and set aside.**\\n2. **Add the sliced onion and red bell pepper to the skillet and cook until tender, about 3-4 minutes.**\\n3. **Add the garlic, broccoli, and mushrooms to the skillet and cook until the vegetables are tender, about 3-4 minutes.**\\n4. **Add the cooked chicken back into the skillet and stir in the soy sauce and sriracha sauce.**\\n5. **Add the shrimp to the skillet and cook until pink and cooked through, about 2-3 minutes.**\\n6. **Season with salt and pepper to taste, and serve hot.**\\n\\n**Nutrition information:**\\n\\n* Calories: 540\\n* Protein: 22g\\n* Fat: 15g\\n* Saturated fat: 2g\\n* Cholesterol: 60mg\\n* Carbohydrates: 45g\\n* Fiber: 5g\\n* Sugar: 5g\\n* Sodium: 350mg\\n\\nNote: Nutrition information is an estimate and may vary based on specific ingredients and portion sizes.'"
      ]
     },
     "execution_count": 148,
     "metadata": {},
     "output_type": "execute_result"
    }
   ],
   "source": [
    "conversational_rag_chain.invoke(\n",
    "    {\"input\": \"Give me the a recipe under 600 calories with a protein content over 18g per serving. Give me the calorie intake.\"},\n",
    "    config={\"configurable\": {\"session_id\": \"abc123\"}},\n",
    ")[\"answer\"]"
   ]
  },
  {
   "cell_type": "code",
   "execution_count": null,
   "metadata": {},
   "outputs": [],
   "source": []
  }
 ],
 "metadata": {
  "kernelspec": {
   "display_name": "venv",
   "language": "python",
   "name": "python3"
  },
  "language_info": {
   "codemirror_mode": {
    "name": "ipython",
    "version": 3
   },
   "file_extension": ".py",
   "mimetype": "text/x-python",
   "name": "python",
   "nbconvert_exporter": "python",
   "pygments_lexer": "ipython3",
   "version": "3.11.8"
  }
 },
 "nbformat": 4,
 "nbformat_minor": 2
}
