{
 "cells": [
  {
   "cell_type": "code",
   "execution_count": 12,
   "metadata": {},
   "outputs": [
    {
     "name": "stdout",
     "output_type": "stream",
     "text": [
      "\u001b[33mDEPRECATION: Configuring installation scheme with distutils config files is deprecated and will no longer work in the near future. If you are using a Homebrew or Linuxbrew Python, please see discussion at https://github.com/Homebrew/homebrew-core/issues/76621\u001b[0m\u001b[33m\n",
      "\u001b[0mRequirement already satisfied: groq in /opt/homebrew/lib/python3.9/site-packages (0.9.0)\n",
      "Requirement already satisfied: anyio<5,>=3.5.0 in /opt/homebrew/lib/python3.9/site-packages (from groq) (4.4.0)\n",
      "Requirement already satisfied: distro<2,>=1.7.0 in /opt/homebrew/lib/python3.9/site-packages (from groq) (1.9.0)\n",
      "Requirement already satisfied: httpx<1,>=0.23.0 in /opt/homebrew/lib/python3.9/site-packages (from groq) (0.27.0)\n",
      "Requirement already satisfied: pydantic<3,>=1.9.0 in /opt/homebrew/lib/python3.9/site-packages (from groq) (2.8.2)\n",
      "Requirement already satisfied: sniffio in /opt/homebrew/lib/python3.9/site-packages (from groq) (1.3.1)\n",
      "Requirement already satisfied: typing-extensions<5,>=4.7 in /Users/david/Library/Python/3.9/lib/python/site-packages (from groq) (4.12.2)\n",
      "Requirement already satisfied: idna>=2.8 in /opt/homebrew/lib/python3.9/site-packages (from anyio<5,>=3.5.0->groq) (3.7)\n",
      "Requirement already satisfied: exceptiongroup>=1.0.2 in /Users/david/Library/Python/3.9/lib/python/site-packages (from anyio<5,>=3.5.0->groq) (1.2.2)\n",
      "Requirement already satisfied: certifi in /opt/homebrew/lib/python3.9/site-packages (from httpx<1,>=0.23.0->groq) (2024.7.4)\n",
      "Requirement already satisfied: httpcore==1.* in /opt/homebrew/lib/python3.9/site-packages (from httpx<1,>=0.23.0->groq) (1.0.5)\n",
      "Requirement already satisfied: h11<0.15,>=0.13 in /opt/homebrew/lib/python3.9/site-packages (from httpcore==1.*->httpx<1,>=0.23.0->groq) (0.14.0)\n",
      "Requirement already satisfied: annotated-types>=0.4.0 in /opt/homebrew/lib/python3.9/site-packages (from pydantic<3,>=1.9.0->groq) (0.7.0)\n",
      "Requirement already satisfied: pydantic-core==2.20.1 in /opt/homebrew/lib/python3.9/site-packages (from pydantic<3,>=1.9.0->groq) (2.20.1)\n",
      "\u001b[33mDEPRECATION: Configuring installation scheme with distutils config files is deprecated and will no longer work in the near future. If you are using a Homebrew or Linuxbrew Python, please see discussion at https://github.com/Homebrew/homebrew-core/issues/76621\u001b[0m\u001b[33m\n",
      "\u001b[0m\n",
      "\u001b[1m[\u001b[0m\u001b[34;49mnotice\u001b[0m\u001b[1;39;49m]\u001b[0m\u001b[39;49m A new release of pip is available: \u001b[0m\u001b[31;49m24.0\u001b[0m\u001b[39;49m -> \u001b[0m\u001b[32;49m24.2\u001b[0m\n",
      "\u001b[1m[\u001b[0m\u001b[34;49mnotice\u001b[0m\u001b[1;39;49m]\u001b[0m\u001b[39;49m To update, run: \u001b[0m\u001b[32;49mpython3.9 -m pip install --upgrade pip\u001b[0m\n",
      "Note: you may need to restart the kernel to use updated packages.\n"
     ]
    }
   ],
   "source": [
    "pip install groq"
   ]
  },
  {
   "cell_type": "code",
   "execution_count": 15,
   "metadata": {},
   "outputs": [],
   "source": [
    "from tinydb import TinyDB, Query\n",
    "from tinydb.storages import JSONStorage\n",
    "from tinydb.middlewares import CachingMiddleware"
   ]
  },
  {
   "cell_type": "code",
   "execution_count": 16,
   "metadata": {},
   "outputs": [],
   "source": [
    "# Create a TinyDB database\n",
    "db = TinyDB('recipes.json', storage=CachingMiddleware(JSONStorage))\n",
    "recipe_table = db.table('recipes')"
   ]
  },
  {
   "cell_type": "code",
   "execution_count": 17,
   "metadata": {},
   "outputs": [],
   "source": [
    "# Function to add a recipe\n",
    "def add_recipe(recipe):\n",
    "    recipe_table.insert(recipe)"
   ]
  },
  {
   "cell_type": "code",
   "execution_count": 18,
   "metadata": {},
   "outputs": [],
   "source": [
    "# BLT recipe\n",
    "blt_recipe = {\n",
    "  \"title\": \"Classic BLT Sandwich\",\n",
    "  \"ingredients\": [\n",
    "    {\"item\": \"bacon slices\", \"amount\": 4, \"unit\": \"slices\"},\n",
    "    {\"item\": \"lettuce leaves\", \"amount\": 2, \"unit\": \"leaves\"},\n",
    "    {\"item\": \"tomato\", \"amount\": 1, \"unit\": \"medium\"},\n",
    "    {\"item\": \"bread slices\", \"amount\": 2, \"unit\": \"slices\"},\n",
    "    {\"item\": \"mayonnaise\", \"amount\": 1, \"unit\": \"tablespoon\"},\n",
    "    {\"item\": \"salt\", \"amount\": 1, \"unit\": \"pinch\"},\n",
    "    {\"item\": \"black pepper\", \"amount\": 1, \"unit\": \"pinch\"}\n",
    "  ],\n",
    "  \"steps\": [\n",
    "    {\"number\": 1, \"instruction\": \"Cook bacon in a skillet over medium heat until crispy\", \"time\": 8, \"timeUnit\": \"minutes\"},\n",
    "    {\"number\": 2, \"instruction\": \"Toast bread slices\", \"time\": 2, \"timeUnit\": \"minutes\"},\n",
    "    {\"number\": 3, \"instruction\": \"Spread mayonnaise on both slices of toasted bread\", \"time\": 1, \"timeUnit\": \"minute\"},\n",
    "    {\"number\": 4, \"instruction\": \"Layer lettuce, tomato slices, and bacon on one slice of bread\", \"time\": 2, \"timeUnit\": \"minutes\"},\n",
    "    {\"number\": 5, \"instruction\": \"Sprinkle salt and pepper to taste\", \"time\": 30, \"timeUnit\": \"seconds\"},\n",
    "    {\"number\": 6, \"instruction\": \"Top with the second slice of bread and cut diagonally\", \"time\": 30, \"timeUnit\": \"seconds\"}\n",
    "  ],\n",
    "  \"totalTime\": {\"time\": 14, \"timeUnit\": \"minutes\"}\n",
    "}"
   ]
  },
  {
   "cell_type": "code",
   "execution_count": 19,
   "metadata": {},
   "outputs": [],
   "source": [
    "# Add the BLT recipe to the database\n",
    "add_recipe(blt_recipe)\n"
   ]
  },
  {
   "cell_type": "code",
   "execution_count": 21,
   "metadata": {},
   "outputs": [],
   "source": [
    " #Close the database\n",
    "db.close()"
   ]
  },
  {
   "cell_type": "code",
   "execution_count": 22,
   "metadata": {},
   "outputs": [],
   "source": [
    "#call the database\n",
    "db = TinyDB('recipes.json', storage=CachingMiddleware(JSONStorage))"
   ]
  },
  {
   "cell_type": "code",
   "execution_count": 13,
   "metadata": {},
   "outputs": [
    {
     "name": "stdout",
     "output_type": "stream",
     "text": [
      "\u001b[33mDEPRECATION: Configuring installation scheme with distutils config files is deprecated and will no longer work in the near future. If you are using a Homebrew or Linuxbrew Python, please see discussion at https://github.com/Homebrew/homebrew-core/issues/76621\u001b[0m\u001b[33m\n",
      "\u001b[0mCollecting tinydb\n",
      "  Downloading tinydb-4.8.0-py3-none-any.whl.metadata (6.2 kB)\n",
      "Downloading tinydb-4.8.0-py3-none-any.whl (24 kB)\n",
      "Installing collected packages: tinydb\n",
      "\u001b[33m  DEPRECATION: Configuring installation scheme with distutils config files is deprecated and will no longer work in the near future. If you are using a Homebrew or Linuxbrew Python, please see discussion at https://github.com/Homebrew/homebrew-core/issues/76621\u001b[0m\u001b[33m\n",
      "\u001b[0m\u001b[33mDEPRECATION: Configuring installation scheme with distutils config files is deprecated and will no longer work in the near future. If you are using a Homebrew or Linuxbrew Python, please see discussion at https://github.com/Homebrew/homebrew-core/issues/76621\u001b[0m\u001b[33m\n",
      "\u001b[0mSuccessfully installed tinydb-4.8.0\n",
      "\n",
      "\u001b[1m[\u001b[0m\u001b[34;49mnotice\u001b[0m\u001b[1;39;49m]\u001b[0m\u001b[39;49m A new release of pip is available: \u001b[0m\u001b[31;49m24.0\u001b[0m\u001b[39;49m -> \u001b[0m\u001b[32;49m24.2\u001b[0m\n",
      "\u001b[1m[\u001b[0m\u001b[34;49mnotice\u001b[0m\u001b[1;39;49m]\u001b[0m\u001b[39;49m To update, run: \u001b[0m\u001b[32;49mpython3.9 -m pip install --upgrade pip\u001b[0m\n",
      "Note: you may need to restart the kernel to use updated packages.\n"
     ]
    }
   ],
   "source": [
    "pip install tinydb\n"
   ]
  },
  {
   "cell_type": "code",
   "execution_count": 30,
   "metadata": {},
   "outputs": [],
   "source": [
    "# turn recipes.json into a string\n",
    "with open('recipes.json') as f:\n",
    "    data = f.read()"
   ]
  },
  {
   "cell_type": "code",
   "execution_count": 31,
   "metadata": {},
   "outputs": [
    {
     "name": "stdout",
     "output_type": "stream",
     "text": [
      "{\"recipes\": {\"1\": {\"title\": \"Classic BLT Sandwich\", \"ingredients\": [{\"item\": \"bacon slices\", \"amount\": 4, \"unit\": \"slices\"}, {\"item\": \"lettuce leaves\", \"amount\": 2, \"unit\": \"leaves\"}, {\"item\": \"tomato\", \"amount\": 1, \"unit\": \"medium\"}, {\"item\": \"bread slices\", \"amount\": 2, \"unit\": \"slices\"}, {\"item\": \"mayonnaise\", \"amount\": 1, \"unit\": \"tablespoon\"}, {\"item\": \"salt\", \"amount\": 1, \"unit\": \"pinch\"}, {\"item\": \"black pepper\", \"amount\": 1, \"unit\": \"pinch\"}], \"steps\": [{\"number\": 1, \"instruction\": \"Cook bacon in a skillet over medium heat until crispy\", \"time\": 8, \"timeUnit\": \"minutes\"}, {\"number\": 2, \"instruction\": \"Toast bread slices\", \"time\": 2, \"timeUnit\": \"minutes\"}, {\"number\": 3, \"instruction\": \"Spread mayonnaise on both slices of toasted bread\", \"time\": 1, \"timeUnit\": \"minute\"}, {\"number\": 4, \"instruction\": \"Layer lettuce, tomato slices, and bacon on one slice of bread\", \"time\": 2, \"timeUnit\": \"minutes\"}, {\"number\": 5, \"instruction\": \"Sprinkle salt and pepper to taste\", \"time\": 30, \"timeUnit\": \"seconds\"}, {\"number\": 6, \"instruction\": \"Top with the second slice of bread and cut diagonally\", \"time\": 30, \"timeUnit\": \"seconds\"}], \"totalTime\": {\"time\": 14, \"timeUnit\": \"minutes\"}}}}\n"
     ]
    }
   ],
   "source": [
    "print (data)"
   ]
  },
  {
   "cell_type": "code",
   "execution_count": 35,
   "metadata": {},
   "outputs": [
    {
     "name": "stdout",
     "output_type": "stream",
     "text": [
      "According to the recipe, it will take approximately 14 minutes to make a Classic BLT Sandwich.\n"
     ]
    }
   ],
   "source": [
    "import os\n",
    "\n",
    "from groq import Groq\n",
    "\n",
    "client = Groq(\n",
    "    api_key=\"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\",\n",
    ")\n",
    "\n",
    "chat_completion = client.chat.completions.create(\n",
    "    messages=[\n",
    "        \n",
    "        {\n",
    "            \"role\": \"system\",\n",
    "            \"content\": data       },\n",
    "        {\n",
    "            \"role\": \"user\",\n",
    "            \"content\": \"How long will it take to make a BLT sandwich?\",\n",
    "        }\n",
    "    ],\n",
    "    model=\"llama3-8b-8192\",\n",
    ")\n",
    "\n",
    "print(chat_completion.choices[0].message.content)\n"
   ]
  },
  {
   "cell_type": "code",
   "execution_count": 6,
   "metadata": {},
   "outputs": [
    {
     "name": "stdout",
     "output_type": "stream",
     "text": [
      "The result of 25 * 4 + 10 is 110.\n"
     ]
    }
   ],
   "source": [
    "from groq import Groq\n",
    "import json\n",
    "\n",
    "client = Groq(\n",
    "    api_key=\"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\",\n",
    ")\n",
    "MODEL = 'llama3-groq-70b-8192-tool-use-preview'\n",
    "\n",
    "def calculate(expression):\n",
    "    \"\"\"Evaluate a mathematical expression\"\"\"\n",
    "    try:\n",
    "        result = eval(expression)\n",
    "        return json.dumps({\"result\": result})\n",
    "    except:\n",
    "        return json.dumps({\"error\": \"Invalid expression\"})\n",
    "\n",
    "def run_conversation(user_prompt):\n",
    "    messages=[\n",
    "        {\n",
    "            \"role\": \"system\",\n",
    "            \"content\": \"You are a calculator assistant. Use the calculate function to perform mathematical operations and provide the results.\"\n",
    "        },\n",
    "        {\n",
    "            \"role\": \"user\",\n",
    "            \"content\": user_prompt,\n",
    "        }\n",
    "    ]\n",
    "    tools = [\n",
    "        {\n",
    "            \"type\": \"function\",\n",
    "            \"function\": {\n",
    "                \"name\": \"calculate\",\n",
    "                \"description\": \"Evaluate a mathematical expression\",\n",
    "                \"parameters\": {\n",
    "                    \"type\": \"object\",\n",
    "                    \"properties\": {\n",
    "                        \"expression\": {\n",
    "                            \"type\": \"string\",\n",
    "                            \"description\": \"The mathematical expression to evaluate\",\n",
    "                        }\n",
    "                    },\n",
    "                    \"required\": [\"expression\"],\n",
    "                },\n",
    "            },\n",
    "        }\n",
    "    ]\n",
    "    response = client.chat.completions.create(\n",
    "        model=MODEL,\n",
    "        messages=messages,\n",
    "        tools=tools,\n",
    "        tool_choice=\"auto\",\n",
    "        max_tokens=4096\n",
    "    )\n",
    "\n",
    "    response_message = response.choices[0].message\n",
    "    tool_calls = response_message.tool_calls\n",
    "    if tool_calls:\n",
    "        available_functions = {\n",
    "            \"calculate\": calculate,\n",
    "        }\n",
    "        messages.append(response_message)\n",
    "        for tool_call in tool_calls:\n",
    "            function_name = tool_call.function.name\n",
    "            function_to_call = available_functions[function_name]\n",
    "            function_args = json.loads(tool_call.function.arguments)\n",
    "            function_response = function_to_call(\n",
    "                expression=function_args.get(\"expression\")\n",
    "            )\n",
    "            messages.append(\n",
    "                {\n",
    "                    \"tool_call_id\": tool_call.id,\n",
    "                    \"role\": \"tool\",\n",
    "                    \"name\": function_name,\n",
    "                    \"content\": function_response,\n",
    "                }\n",
    "            )\n",
    "        second_response = client.chat.completions.create(\n",
    "            model=MODEL,\n",
    "            messages=messages\n",
    "        )\n",
    "        return second_response.choices[0].message.content\n",
    "\n",
    "user_prompt = \"What is 25 * 4 + 10?\"\n",
    "print(run_conversation(user_prompt))"
   ]
  },
  {
   "cell_type": "code",
   "execution_count": null,
   "metadata": {},
   "outputs": [],
   "source": []
  }
 ],
 "metadata": {
  "kernelspec": {
   "display_name": "Python 3",
   "language": "python",
   "name": "python3"
  },
  "language_info": {
   "codemirror_mode": {
    "name": "ipython",
    "version": 3
   },
   "file_extension": ".py",
   "mimetype": "text/x-python",
   "name": "python",
   "nbconvert_exporter": "python",
   "pygments_lexer": "ipython3",
   "version": "3.9.13"
  }
 },
 "nbformat": 4,
 "nbformat_minor": 2
}
