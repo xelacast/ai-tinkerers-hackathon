{
 "cells": [
  {
   "cell_type": "code",
   "execution_count": 33,
   "metadata": {},
   "outputs": [],
   "source": [
    "from twelvelabs import TwelveLabs\n",
    "import os"
   ]
  },
  {
   "cell_type": "code",
   "execution_count": 34,
   "metadata": {},
   "outputs": [],
   "source": [
    "client = TwelveLabs(api_key=os.getenv('TL_API_KEY'))"
   ]
  },
  {
   "cell_type": "markdown",
   "metadata": {},
   "source": [
    "# Get Index Search Results"
   ]
  },
  {
   "cell_type": "code",
   "execution_count": null,
   "metadata": {},
   "outputs": [],
   "source": [
    "search_results = client.search.query(\n",
    "  index_id=\"66abefd2dde98afa0afb285b\",\n",
    "  query_text=\"A man cooking a steak\",\n",
    "  options=[\"visual\", \"conversation\"]\n",
    ")\n",
    "\n",
    "# Utility function to print a specific page\n",
    "def print_page(page):\n",
    "  for clip in page:\n",
    "    print(\n",
    "        f\" video_id={clip.video_id} score={clip.score} start={clip.start} end={clip.end} confidence={clip.confidence}\"\n",
    "    )\n",
    "\n",
    "print_page(search_results.data)\n",
    "\n",
    "while True:\n",
    "    try:\n",
    "        print_page(next(search_results))\n",
    "    except StopIteration:\n",
    "        break\n"
   ]
  },
  {
   "cell_type": "code",
   "execution_count": 39,
   "metadata": {},
   "outputs": [
    {
     "ename": "ConnectError",
     "evalue": "[SSL: CERTIFICATE_VERIFY_FAILED] certificate verify failed: unable to get local issuer certificate (_ssl.c:1006)",
     "output_type": "error",
     "traceback": [
      "\u001b[0;31m---------------------------------------------------------------------------\u001b[0m",
      "\u001b[0;31mConnectError\u001b[0m                              Traceback (most recent call last)",
      "File \u001b[0;32m~/Developer/hackathons/ai-tinkerers/ai-recipes/venv/lib/python3.11/site-packages/httpx/_transports/default.py:66\u001b[0m, in \u001b[0;36mmap_httpcore_exceptions\u001b[0;34m()\u001b[0m\n",
      "File \u001b[0;32m~/Developer/hackathons/ai-tinkerers/ai-recipes/venv/lib/python3.11/site-packages/httpx/_transports/default.py:228\u001b[0m, in \u001b[0;36mhandle_request\u001b[0;34m(self, request)\u001b[0m\n",
      "File \u001b[0;32m~/Developer/hackathons/ai-tinkerers/ai-recipes/venv/lib/python3.11/site-packages/httpcore/_sync/connection_pool.py:216\u001b[0m, in \u001b[0;36mhandle_request\u001b[0;34m(self, request)\u001b[0m\n",
      "File \u001b[0;32m~/Developer/hackathons/ai-tinkerers/ai-recipes/venv/lib/python3.11/site-packages/httpcore/_sync/connection_pool.py:196\u001b[0m, in \u001b[0;36mhandle_request\u001b[0;34m(self, request)\u001b[0m\n",
      "File \u001b[0;32m~/Developer/hackathons/ai-tinkerers/ai-recipes/venv/lib/python3.11/site-packages/httpcore/_sync/connection.py:99\u001b[0m, in \u001b[0;36mhandle_request\u001b[0;34m(self, request)\u001b[0m\n",
      "File \u001b[0;32m~/Developer/hackathons/ai-tinkerers/ai-recipes/venv/lib/python3.11/site-packages/httpcore/_sync/connection.py:76\u001b[0m, in \u001b[0;36mhandle_request\u001b[0;34m(self, request)\u001b[0m\n",
      "File \u001b[0;32m~/Developer/hackathons/ai-tinkerers/ai-recipes/venv/lib/python3.11/site-packages/httpcore/_sync/connection.py:154\u001b[0m, in \u001b[0;36m_connect\u001b[0;34m(self, request)\u001b[0m\n",
      "File \u001b[0;32m~/Developer/hackathons/ai-tinkerers/ai-recipes/venv/lib/python3.11/site-packages/httpcore/_backends/sync.py:152\u001b[0m, in \u001b[0;36mstart_tls\u001b[0;34m(self, ssl_context, server_hostname, timeout)\u001b[0m\n",
      "File \u001b[0;32m~/.pyenv/versions/3.11.8/lib/python3.11/contextlib.py:158\u001b[0m, in \u001b[0;36m_GeneratorContextManager.__exit__\u001b[0;34m(self, typ, value, traceback)\u001b[0m\n\u001b[1;32m    157\u001b[0m \u001b[38;5;28;01mtry\u001b[39;00m:\n\u001b[0;32m--> 158\u001b[0m     \u001b[38;5;28mself\u001b[39m\u001b[38;5;241m.\u001b[39mgen\u001b[38;5;241m.\u001b[39mthrow(typ, value, traceback)\n\u001b[1;32m    159\u001b[0m \u001b[38;5;28;01mexcept\u001b[39;00m \u001b[38;5;167;01mStopIteration\u001b[39;00m \u001b[38;5;28;01mas\u001b[39;00m exc:\n\u001b[1;32m    160\u001b[0m     \u001b[38;5;66;03m# Suppress StopIteration *unless* it's the same exception that\u001b[39;00m\n\u001b[1;32m    161\u001b[0m     \u001b[38;5;66;03m# was passed to throw().  This prevents a StopIteration\u001b[39;00m\n\u001b[1;32m    162\u001b[0m     \u001b[38;5;66;03m# raised inside the \"with\" statement from being suppressed.\u001b[39;00m\n",
      "File \u001b[0;32m~/Developer/hackathons/ai-tinkerers/ai-recipes/venv/lib/python3.11/site-packages/httpcore/_exceptions.py:14\u001b[0m, in \u001b[0;36mmap_exceptions\u001b[0;34m(map)\u001b[0m\n",
      "\u001b[0;31mConnectError\u001b[0m: [SSL: CERTIFICATE_VERIFY_FAILED] certificate verify failed: unable to get local issuer certificate (_ssl.c:1006)",
      "\nThe above exception was the direct cause of the following exception:\n",
      "\u001b[0;31mConnectError\u001b[0m                              Traceback (most recent call last)",
      "Cell \u001b[0;32mIn[39], line 39\u001b[0m\n\u001b[1;32m     36\u001b[0m         \u001b[38;5;28mprint\u001b[39m(text)\n\u001b[1;32m     37\u001b[0m   \u001b[38;5;66;03m# return text_stream.aggregated_text\u001b[39;00m\n\u001b[0;32m---> 39\u001b[0m \u001b[38;5;28mprint\u001b[39m(\u001b[38;5;124mf\u001b[39m\u001b[38;5;124m\"\u001b[39m\u001b[38;5;124mAggregated text: \u001b[39m\u001b[38;5;132;01m{\u001b[39;00m\u001b[43mget_twelvelabs_generate_text_from_video\u001b[49m\u001b[43m(\u001b[49m\u001b[43m)\u001b[49m\u001b[38;5;132;01m}\u001b[39;00m\u001b[38;5;124m\"\u001b[39m)\n",
      "Cell \u001b[0;32mIn[39], line 35\u001b[0m, in \u001b[0;36mget_twelvelabs_generate_text_from_video\u001b[0;34m()\u001b[0m\n\u001b[1;32m      3\u001b[0m video_id \u001b[38;5;241m=\u001b[39m \u001b[38;5;124m\"\u001b[39m\u001b[38;5;124m66ae779d7b2deac81dd1284c\u001b[39m\u001b[38;5;124m\"\u001b[39m\n\u001b[1;32m      5\u001b[0m text_stream \u001b[38;5;241m=\u001b[39m client\u001b[38;5;241m.\u001b[39mgenerate\u001b[38;5;241m.\u001b[39mtext_stream(\n\u001b[1;32m      6\u001b[0m     video_id\u001b[38;5;241m=\u001b[39mvideo_id, prompt\u001b[38;5;241m=\u001b[39m\u001b[38;5;124m\"\"\"\u001b[39m\u001b[38;5;124m\"\u001b[39m\n\u001b[1;32m      7\u001b[0m \u001b[38;5;124mExtract the ingredients and the instructions from this video.\u001b[39m\n\u001b[0;32m   (...)\u001b[0m\n\u001b[1;32m     33\u001b[0m \u001b[38;5;124mDO NOT RETURN ANYTHING OTHER THAN THE JSON.\u001b[39m\u001b[38;5;124m\"\"\"\u001b[39m\n\u001b[1;32m     34\u001b[0m )\n\u001b[0;32m---> 35\u001b[0m \u001b[43m\u001b[49m\u001b[38;5;28;43;01mfor\u001b[39;49;00m\u001b[43m \u001b[49m\u001b[43mtext\u001b[49m\u001b[43m \u001b[49m\u001b[38;5;129;43;01min\u001b[39;49;00m\u001b[43m \u001b[49m\u001b[43mtext_stream\u001b[49m\u001b[43m:\u001b[49m\n\u001b[1;32m     36\u001b[0m \u001b[43m      \u001b[49m\u001b[38;5;28;43mprint\u001b[39;49m\u001b[43m(\u001b[49m\u001b[43mtext\u001b[49m\u001b[43m)\u001b[49m\n",
      "File \u001b[0;32m~/Developer/hackathons/ai-tinkerers/ai-recipes/venv/lib/python3.11/site-packages/twelvelabs/models/generate.py:61\u001b[0m, in \u001b[0;36m__iter__\u001b[0;34m(self)\u001b[0m\n",
      "File \u001b[0;32m~/.pyenv/versions/3.11.8/lib/python3.11/contextlib.py:137\u001b[0m, in \u001b[0;36m_GeneratorContextManager.__enter__\u001b[0;34m(self)\u001b[0m\n\u001b[1;32m    135\u001b[0m \u001b[38;5;28;01mdel\u001b[39;00m \u001b[38;5;28mself\u001b[39m\u001b[38;5;241m.\u001b[39margs, \u001b[38;5;28mself\u001b[39m\u001b[38;5;241m.\u001b[39mkwds, \u001b[38;5;28mself\u001b[39m\u001b[38;5;241m.\u001b[39mfunc\n\u001b[1;32m    136\u001b[0m \u001b[38;5;28;01mtry\u001b[39;00m:\n\u001b[0;32m--> 137\u001b[0m     \u001b[38;5;28;01mreturn\u001b[39;00m \u001b[38;5;28mnext\u001b[39m(\u001b[38;5;28mself\u001b[39m\u001b[38;5;241m.\u001b[39mgen)\n\u001b[1;32m    138\u001b[0m \u001b[38;5;28;01mexcept\u001b[39;00m \u001b[38;5;167;01mStopIteration\u001b[39;00m:\n\u001b[1;32m    139\u001b[0m     \u001b[38;5;28;01mraise\u001b[39;00m \u001b[38;5;167;01mRuntimeError\u001b[39;00m(\u001b[38;5;124m\"\u001b[39m\u001b[38;5;124mgenerator didn\u001b[39m\u001b[38;5;124m'\u001b[39m\u001b[38;5;124mt yield\u001b[39m\u001b[38;5;124m\"\u001b[39m) \u001b[38;5;28;01mfrom\u001b[39;00m \u001b[38;5;28;01mNone\u001b[39;00m\n",
      "File \u001b[0;32m~/Developer/hackathons/ai-tinkerers/ai-recipes/venv/lib/python3.11/site-packages/httpx/_client.py:857\u001b[0m, in \u001b[0;36mstream\u001b[0;34m(self, method, url, content, data, files, json, params, headers, cookies, auth, follow_redirects, timeout, extensions)\u001b[0m\n",
      "File \u001b[0;32m~/Developer/hackathons/ai-tinkerers/ai-recipes/venv/lib/python3.11/site-packages/httpx/_client.py:901\u001b[0m, in \u001b[0;36msend\u001b[0;34m(self, request, stream, auth, follow_redirects)\u001b[0m\n",
      "File \u001b[0;32m~/Developer/hackathons/ai-tinkerers/ai-recipes/venv/lib/python3.11/site-packages/httpx/_client.py:929\u001b[0m, in \u001b[0;36m_send_handling_auth\u001b[0;34m(self, request, auth, follow_redirects, history)\u001b[0m\n",
      "File \u001b[0;32m~/Developer/hackathons/ai-tinkerers/ai-recipes/venv/lib/python3.11/site-packages/httpx/_client.py:966\u001b[0m, in \u001b[0;36m_send_handling_redirects\u001b[0;34m(self, request, follow_redirects, history)\u001b[0m\n",
      "File \u001b[0;32m~/Developer/hackathons/ai-tinkerers/ai-recipes/venv/lib/python3.11/site-packages/httpx/_client.py:1002\u001b[0m, in \u001b[0;36m_send_single_request\u001b[0;34m(self, request)\u001b[0m\n",
      "File \u001b[0;32m~/Developer/hackathons/ai-tinkerers/ai-recipes/venv/lib/python3.11/site-packages/httpx/_transports/default.py:227\u001b[0m, in \u001b[0;36mhandle_request\u001b[0;34m(self, request)\u001b[0m\n",
      "File \u001b[0;32m~/.pyenv/versions/3.11.8/lib/python3.11/contextlib.py:158\u001b[0m, in \u001b[0;36m_GeneratorContextManager.__exit__\u001b[0;34m(self, typ, value, traceback)\u001b[0m\n\u001b[1;32m    156\u001b[0m     value \u001b[38;5;241m=\u001b[39m typ()\n\u001b[1;32m    157\u001b[0m \u001b[38;5;28;01mtry\u001b[39;00m:\n\u001b[0;32m--> 158\u001b[0m     \u001b[38;5;28mself\u001b[39m\u001b[38;5;241m.\u001b[39mgen\u001b[38;5;241m.\u001b[39mthrow(typ, value, traceback)\n\u001b[1;32m    159\u001b[0m \u001b[38;5;28;01mexcept\u001b[39;00m \u001b[38;5;167;01mStopIteration\u001b[39;00m \u001b[38;5;28;01mas\u001b[39;00m exc:\n\u001b[1;32m    160\u001b[0m     \u001b[38;5;66;03m# Suppress StopIteration *unless* it's the same exception that\u001b[39;00m\n\u001b[1;32m    161\u001b[0m     \u001b[38;5;66;03m# was passed to throw().  This prevents a StopIteration\u001b[39;00m\n\u001b[1;32m    162\u001b[0m     \u001b[38;5;66;03m# raised inside the \"with\" statement from being suppressed.\u001b[39;00m\n\u001b[1;32m    163\u001b[0m     \u001b[38;5;28;01mreturn\u001b[39;00m exc \u001b[38;5;129;01mis\u001b[39;00m \u001b[38;5;129;01mnot\u001b[39;00m value\n",
      "File \u001b[0;32m~/Developer/hackathons/ai-tinkerers/ai-recipes/venv/lib/python3.11/site-packages/httpx/_transports/default.py:83\u001b[0m, in \u001b[0;36mmap_httpcore_exceptions\u001b[0;34m()\u001b[0m\n",
      "\u001b[0;31mConnectError\u001b[0m: [SSL: CERTIFICATE_VERIFY_FAILED] certificate verify failed: unable to get local issuer certificate (_ssl.c:1006)"
     ]
    }
   ],
   "source": [
    "\n",
    "def get_twelvelabs_generate_text_from_video():\n",
    "\n",
    "  video_id = \"66ae779d7b2deac81dd1284c\"\n",
    "\n",
    "  text_stream = client.generate.text_stream(\n",
    "      video_id=video_id, prompt=\"\"\"\"\n",
    "  Extract the ingredients and the instructions from this video.\n",
    "\n",
    "  Make sure instructions are in sequential order from start to finish\n",
    "\n",
    "  Use this json format as Structured Data.\n",
    "  {\n",
    "    \"title\": \"title\",\n",
    "    \"dishName\": \"dishName\",\n",
    "    \"ingredients\": [\n",
    "      {\n",
    "        \"item\": \"item\",\n",
    "        \"amount\": \"2\",\n",
    "        \"unit\": \"unit\"\n",
    "      }\n",
    "    ],\n",
    "    \"instructions\": [\n",
    "      {\n",
    "        \"number\": \"1\",\n",
    "        \"instruction\": \"instruction\"\n",
    "      }\n",
    "    ]\n",
    "  }\n",
    "\n",
    "\n",
    "  If there is no information leave blank.\n",
    "\n",
    "  DO NOT RETURN ANYTHING OTHER THAN THE JSON.\"\"\"\n",
    "  )\n",
    "  for text in text_stream:\n",
    "        print(text)\n",
    "  # return text_stream.aggregated_text\n",
    "\n",
    "print(f\"Aggregated text: {get_twelvelabs_generate_text_from_video()}\")"
   ]
  },
  {
   "cell_type": "code",
   "execution_count": null,
   "metadata": {},
   "outputs": [],
   "source": [
    "# convert output to json"
   ]
  }
 ],
 "metadata": {
  "kernelspec": {
   "display_name": "venv",
   "language": "python",
   "name": "python3"
  },
  "language_info": {
   "codemirror_mode": {
    "name": "ipython",
    "version": 3
   },
   "file_extension": ".py",
   "mimetype": "text/x-python",
   "name": "python",
   "nbconvert_exporter": "python",
   "pygments_lexer": "ipython3",
   "version": "3.11.8"
  }
 },
 "nbformat": 4,
 "nbformat_minor": 2
}
