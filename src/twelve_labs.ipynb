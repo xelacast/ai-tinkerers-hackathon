{
 "cells": [
  {
   "cell_type": "code",
   "execution_count": 1,
   "metadata": {},
   "outputs": [],
   "source": [
    "from twelvelabs import TwelveLabs\n",
    "import os"
   ]
  },
  {
   "cell_type": "code",
   "execution_count": 2,
   "metadata": {},
   "outputs": [],
   "source": [
    "client = TwelveLabs(api_key=os.getenv('TL_API_KEY'))"
   ]
  },
  {
   "cell_type": "markdown",
   "metadata": {},
   "source": [
    "# Get Index Search Results"
   ]
  },
  {
   "cell_type": "code",
   "execution_count": null,
   "metadata": {},
   "outputs": [],
   "source": [
    "search_results = client.search.query(\n",
    "  index_id=\"66abefd2dde98afa0afb285b\",\n",
    "  query_text=\"A man cooking a steak\",\n",
    "  options=[\"visual\", \"conversation\"]\n",
    ")\n",
    "\n",
    "# Utility function to print a specific page\n",
    "def print_page(page):\n",
    "  for clip in page:\n",
    "    print(\n",
    "        f\" video_id={clip.video_id} score={clip.score} start={clip.start} end={clip.end} confidence={clip.confidence}\"\n",
    "    )\n",
    "\n",
    "print_page(search_results.data)\n",
    "\n",
    "while True:\n",
    "    try:\n",
    "        print_page(next(search_results))\n",
    "    except StopIteration:\n",
    "        break\n"
   ]
  },
  {
   "cell_type": "code",
   "execution_count": 10,
   "metadata": {},
   "outputs": [
    {
     "name": "stdout",
     "output_type": "stream",
     "text": [
      "Aggregated text: \n"
     ]
    }
   ],
   "source": [
    "\n",
    "def get_twelvelabs_generate_text_from_video(video_id):\n",
    "\n",
    "  text_stream = client.generate.text_stream(\n",
    "      video_id=video_id, prompt=\"\"\"\"\n",
    "  Extract the ingredients and the instructions from this video.\n",
    "\n",
    "  Make sure instructions are in sequential order from start to finish\n",
    "\n",
    "  Use this json format as Structured Data.\n",
    "  {\n",
    "    \"title\": \"title\",\n",
    "    \"dishName\": \"dishName\",\n",
    "    \"ingredients\": [\n",
    "      {\n",
    "        \"item\": \"item\",\n",
    "        \"amount\": \"2\",\n",
    "        \"unit\": \"unit\"\n",
    "      }\n",
    "    ],\n",
    "    \"instructions\": [\n",
    "      {\n",
    "        \"number\": \"1\",\n",
    "        \"instruction\": \"instruction\"\n",
    "      }\n",
    "    ]\n",
    "  }\n",
    "\n",
    "\n",
    "  If there is no information leave blank.\n",
    "\n",
    "  DO NOT RETURN ANYTHING OTHER THAN THE JSON.\"\"\"\n",
    "  )\n",
    "  return text_stream.aggregated_text\n",
    "# for text in text_stream:\n",
    "    # print(text)\n",
    "\n",
    "print(f\"Aggregated text: {get_twelvelabs_generate_text_from_video(\"66ae779d7b2deac81dd1284c\")}\")"
   ]
  },
  {
   "cell_type": "code",
   "execution_count": null,
   "metadata": {},
   "outputs": [],
   "source": [
    "# convert output to json"
   ]
  }
 ],
 "metadata": {
  "kernelspec": {
   "display_name": "venv",
   "language": "python",
   "name": "python3"
  },
  "language_info": {
   "codemirror_mode": {
    "name": "ipython",
    "version": 3
   },
   "file_extension": ".py",
   "mimetype": "text/x-python",
   "name": "python",
   "nbconvert_exporter": "python",
   "pygments_lexer": "ipython3",
   "version": "3.11.8"
  }
 },
 "nbformat": 4,
 "nbformat_minor": 2
}
